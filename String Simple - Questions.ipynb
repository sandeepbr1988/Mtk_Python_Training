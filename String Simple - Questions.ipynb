{
 "cells": [
  {
   "cell_type": "markdown",
   "metadata": {},
   "source": [
    "# String Simple Questions"
   ]
  },
  {
   "cell_type": "code",
   "execution_count": 3,
   "metadata": {},
   "outputs": [
    {
     "ename": "SyntaxError",
     "evalue": "invalid syntax (3839702838.py, line 1)",
     "output_type": "error",
     "traceback": [
      "\u001b[1;36m  Cell \u001b[1;32mIn[3], line 1\u001b[1;36m\u001b[0m\n\u001b[1;33m    1. Write a Python program to calculate the length of a given string.\u001b[0m\n\u001b[1;37m       ^\u001b[0m\n\u001b[1;31mSyntaxError\u001b[0m\u001b[1;31m:\u001b[0m invalid syntax\n"
     ]
    }
   ],
   "source": [
    "1. Write a Python program to calculate the length of a given string.\n",
    "    Data:\n",
    "        \"Baskar\"\n",
    "    Expected Output:\n",
    "        6\n",
    "\n",
    "\n",
    "        \n",
    "        \n",
    "        \n",
    "        "
   ]
  },
  {
   "cell_type": "code",
   "execution_count": 5,
   "metadata": {},
   "outputs": [
    {
     "name": "stdout",
     "output_type": "stream",
     "text": [
      "6\n"
     ]
    }
   ],
   "source": [
    "\n",
    "input_string = \"Baskar\"\n",
    "\n",
    "\n",
    "length = len(input_string)\n",
    "\n",
    "\n",
    "print(length)"
   ]
  },
  {
   "cell_type": "code",
   "execution_count": null,
   "metadata": {},
   "outputs": [],
   "source": [
    "2. Write a Python program to remove the character of the nth index from a given string. \n",
    "    Data:\n",
    "        \"Python\"\n",
    "    Expected Output:\n",
    "        ython\n",
    "        Pyton\n",
    "        Pytho\n",
    "    \n",
    "    \n",
    "    \n",
    "    "
   ]
  },
  {
   "cell_type": "code",
   "execution_count": 6,
   "metadata": {},
   "outputs": [
    {
     "name": "stdout",
     "output_type": "stream",
     "text": [
      "ython\n",
      "Pythn\n",
      "Pytho\n"
     ]
    }
   ],
   "source": [
    "def remove_nth_char(s, n):\n",
    "    return s[:n] + s[n+1:]\n",
    "\n",
    "\n",
    "string = \"Python\"\n",
    "\n",
    "\n",
    "print(remove_nth_char(string, 0))  \n",
    "\n",
    "\n",
    "print(remove_nth_char(string, 4))  \n",
    "\n",
    "\n",
    "print(remove_nth_char(string, 5))"
   ]
  },
  {
   "cell_type": "code",
   "execution_count": null,
   "metadata": {},
   "outputs": [],
   "source": [
    "3. Write a Python program to interchange the first and last character of a given string.\n",
    "    Data:\n",
    "        'abcd'\n",
    "        '12345'\n",
    "    Expected Output:\n",
    "        dbca\n",
    "        52341\n",
    "        \n",
    "        \n",
    "        \n",
    "        "
   ]
  },
  {
   "cell_type": "code",
   "execution_count": 7,
   "metadata": {},
   "outputs": [
    {
     "name": "stdout",
     "output_type": "stream",
     "text": [
      "dbca\n",
      "52341\n"
     ]
    }
   ],
   "source": [
    "def swap_first_last(s):\n",
    "    if len(s) < 2:\n",
    "        return s\n",
    "    return s[-1] + s[1:-1] + s[0]\n",
    "\n",
    "data = ['abcd', '12345']\n",
    "\n",
    "for item in data:\n",
    "    print(swap_first_last(item))"
   ]
  },
  {
   "cell_type": "code",
   "execution_count": null,
   "metadata": {},
   "outputs": [],
   "source": [
    "4. Write a Python program to remove the values of the odd index from a given string.\n",
    "    Data:\n",
    "        'abcdef'\n",
    "        'python'\n",
    "    Expected Output:\n",
    "        ace\n",
    "        pto\n",
    "        \n",
    "        \n",
    "        \n",
    "        "
   ]
  },
  {
   "cell_type": "code",
   "execution_count": 8,
   "metadata": {},
   "outputs": [
    {
     "name": "stdout",
     "output_type": "stream",
     "text": [
      "ace\n",
      "pto\n"
     ]
    }
   ],
   "source": [
    "def remove_odd_index_chars(s):\n",
    "    return s[::2]\n",
    "\n",
    "data = ['abcdef', 'python']\n",
    "\n",
    "for item in data:\n",
    "    print(remove_odd_index_chars(item))"
   ]
  },
  {
   "cell_type": "code",
   "execution_count": null,
   "metadata": {},
   "outputs": [],
   "source": [
    "5. Write a Python program to get input from the user and print the input back in uppercase.\n",
    "    Data:\n",
    "        Whats your favourite language: Kannada\n",
    "    Expected Output:\n",
    "        My favourite language is  KANNADA\n",
    "        My favourite language is  kannada\n",
    "        \n",
    "        \n",
    "        \n",
    "        "
   ]
  },
  {
   "cell_type": "code",
   "execution_count": 10,
   "metadata": {},
   "outputs": [
    {
     "name": "stdin",
     "output_type": "stream",
     "text": [
      "Whats your favourite language:  Kannada\n"
     ]
    },
    {
     "name": "stdout",
     "output_type": "stream",
     "text": [
      "My favourite language is  KANNADA\n",
      "My favourite language is  Kannada\n"
     ]
    }
   ],
   "source": [
    "language = input(\"Whats your favourite language: \")\n",
    "print(\"My favourite language is \", language.upper())\n",
    "print(\"My favourite language is \", language)"
   ]
  },
  {
   "cell_type": "code",
   "execution_count": null,
   "metadata": {},
   "outputs": [],
   "source": [
    "6. Write a Python program that accepts a comma separated sequence of words as input and print only the unique strings in sorted.\n",
    "    Data:\n",
    "        Words : red, white, black, red, green, black\n",
    "    Expected Output:\n",
    "        black, green, red, white, red\n",
    "        \n",
    "        \n",
    "        \n",
    "        "
   ]
  },
  {
   "cell_type": "code",
   "execution_count": 12,
   "metadata": {},
   "outputs": [
    {
     "name": "stdin",
     "output_type": "stream",
     "text": [
      "Words :  red, white, black, red, green, black\n"
     ]
    },
    {
     "name": "stdout",
     "output_type": "stream",
     "text": [
      "black, black, green, red, red, white\n"
     ]
    }
   ],
   "source": [
    "\n",
    "words = input(\"Words : \")\n",
    "\n",
    "\n",
    "word_list = [word.strip() for word in words.split(',')]\n",
    "\n",
    "\n",
    "word_list.sort()\n",
    "\n",
    "\n",
    "print(', '.join(word_list))"
   ]
  },
  {
   "cell_type": "code",
   "execution_count": null,
   "metadata": {},
   "outputs": [],
   "source": [
    "7. Write a Python function to create the HTML string with tags around the string.\n",
    "    Data:\n",
    "        ('i', 'Python')\n",
    "        ('b', 'Python Tutorial')\n",
    "    Expected Output:\n",
    "        <i>Python</i>\n",
    "        <b>Python Tutorial </b>\n",
    "        \n",
    "        \n",
    "        \n",
    "        "
   ]
  },
  {
   "cell_type": "code",
   "execution_count": 14,
   "metadata": {},
   "outputs": [
    {
     "name": "stdout",
     "output_type": "stream",
     "text": [
      "<i>Python</i>\n",
      "<b>Python Tutorial</b>\n"
     ]
    }
   ],
   "source": [
    "def wrap_with_tag(tag, text):\n",
    "    return f\"<{tag}>{text}</{tag}>\"\n",
    "\n",
    "# Example usage:\n",
    "print(wrap_with_tag('i', 'Python'))           \n",
    "print(wrap_with_tag('b', 'Python Tutorial'))  "
   ]
  },
  {
   "cell_type": "code",
   "execution_count": null,
   "metadata": {},
   "outputs": [],
   "source": [
    "8. Write a Python function to insert the second string in the middle of a first string.\n",
    "    Data:\n",
    "        ('[[]]', 'Python')\n",
    "        ('{{}}', 'PHP')\n",
    "    Expected Output:\n",
    "        [[Python]]\n",
    "        {{PHP}}\n",
    "\n",
    "\n",
    "        \n",
    "        \n",
    "        \n",
    "        "
   ]
  },
  {
   "cell_type": "code",
   "execution_count": 24,
   "metadata": {},
   "outputs": [],
   "source": [
    "def insert_in_middle(wrapper, content):\n",
    "    mid = len(wrapper) // 2\n",
    "    return wrapper[:mid] + content + wrapper[mid:]"
   ]
  },
  {
   "cell_type": "code",
   "execution_count": null,
   "metadata": {},
   "outputs": [],
   "source": [
    "9. Write a Python function to get a string made of 4 copies of the last two characters of a specified string \n",
    "    (length must be at least 2).\n",
    "    Data:\n",
    "        'Python'\n",
    "    Expected Output:\n",
    "        onononon\n",
    "        \n",
    "        \n",
    "        \n",
    "        "
   ]
  },
  {
   "cell_type": "code",
   "execution_count": 23,
   "metadata": {},
   "outputs": [
    {
     "name": "stdout",
     "output_type": "stream",
     "text": [
      "onononon\n"
     ]
    }
   ],
   "source": [
    "def repeat_last_two(input_string):\n",
    "    last_two = input_string[-2:]\n",
    "    result = last_two * 4\n",
    "    return result\n",
    "print(repeat_last_two('Python'))"
   ]
  },
  {
   "cell_type": "code",
   "execution_count": null,
   "metadata": {},
   "outputs": [],
   "source": [
    "10. Write a Python function to get a string made of its first three characters of a specified string. \n",
    "    If the length of the string is less than 3 then return the original string.\n",
    "    Data:\n",
    "        'ipy'\n",
    "        'python'\n",
    "    Expected Output:\n",
    "        ipy\n",
    "        pyt\n",
    "        \n",
    "        \n",
    "        \n",
    "        "
   ]
  },
  {
   "cell_type": "code",
   "execution_count": 25,
   "metadata": {},
   "outputs": [
    {
     "name": "stdout",
     "output_type": "stream",
     "text": [
      "ipy\n",
      "pyt\n"
     ]
    }
   ],
   "source": [
    "def first_three_chars(s):\n",
    "    if len(s) < 3:\n",
    "        return s\n",
    "    else:\n",
    "        return s[:3]\n",
    "\n",
    "print(first_three_chars('ipy'))    \n",
    "print(first_three_chars('python'))  "
   ]
  },
  {
   "cell_type": "code",
   "execution_count": null,
   "metadata": {},
   "outputs": [],
   "source": [
    "11. Write a Python function to reverse a string if its length is a multiple of 4.\n",
    "    Data:\n",
    "        'abcd'\n",
    "        'python'\n",
    "    Expected Output:\n",
    "        dcba\n",
    "        python\n",
    "        \n",
    "        \n",
    "        \n",
    "        "
   ]
  },
  {
   "cell_type": "code",
   "execution_count": 26,
   "metadata": {},
   "outputs": [
    {
     "name": "stdout",
     "output_type": "stream",
     "text": [
      "dcba\n",
      "python\n"
     ]
    }
   ],
   "source": [
    "def reverse_if_multiple_of_4(s):\n",
    "    if len(s) % 4 == 0:\n",
    "        return s[::-1]\n",
    "    else:\n",
    "        return s\n",
    "print(reverse_if_multiple_of_4('abcd')) \n",
    "print(reverse_if_multiple_of_4('python'))"
   ]
  },
  {
   "cell_type": "code",
   "execution_count": null,
   "metadata": {},
   "outputs": [],
   "source": [
    "12. Write a Python program to get the last part of a string before a specified character.\n",
    "    Data:\n",
    "        str1 = 'https://www.aidinasaur.com/python-exercises/string'\n",
    "    Expected Output:\n",
    "        https://www.aidinasaur.com/python-exercises\n",
    "        https://www.aidinasaur.com/python\n",
    "            \n",
    "            \n",
    "            \n",
    "            "
   ]
  },
  {
   "cell_type": "code",
   "execution_count": 27,
   "metadata": {},
   "outputs": [
    {
     "name": "stdout",
     "output_type": "stream",
     "text": [
      "https://www.aidinasaur.com/python-exercises\n",
      "https://www.aidinasaur.com\n"
     ]
    }
   ],
   "source": [
    "str1 = 'https://www.aidinasaur.com/python-exercises/string'\n",
    "\n",
    "index = str1.rfind('/')\n",
    "result1 = str1[:index]\n",
    "print(result1)\n",
    "\n",
    "index2 = result1.rfind('/')\n",
    "result2 = result1[:index2]\n",
    "print(result2)"
   ]
  },
  {
   "cell_type": "code",
   "execution_count": null,
   "metadata": {},
   "outputs": [],
   "source": [
    "13. Write a Python program to sort a string lexicographically.\n",
    "    Data:\n",
    "        aidinasaur\n",
    "    Expected Output: \n",
    "        ['a', 'a', 'a', 'd', 'i', 'i', 'n', 'r', 's', 'u']\n",
    "        \n",
    "        \n",
    "    \n",
    "    "
   ]
  },
  {
   "cell_type": "code",
   "execution_count": 28,
   "metadata": {},
   "outputs": [
    {
     "name": "stdout",
     "output_type": "stream",
     "text": [
      "['a', 'a', 'a', 'd', 'i', 'i', 'n', 'r', 's', 'u']\n"
     ]
    }
   ],
   "source": [
    "data = \"aidinasaur\"\n",
    "\n",
    "sorted_list = sorted(data)\n",
    "\n",
    "print(sorted_list)"
   ]
  },
  {
   "cell_type": "code",
   "execution_count": null,
   "metadata": {},
   "outputs": [],
   "source": [
    "14. Write a Python program to remove a newline in Python.\n",
    "    Data:\n",
    "        'Python Exercises\\n'\n",
    "    Expected Output: \n",
    "        Python Exercises\n",
    "\n",
    "        Python Exercises\n",
    "        \n",
    "        \n",
    "        \n",
    "        "
   ]
  },
  {
   "cell_type": "code",
   "execution_count": 29,
   "metadata": {},
   "outputs": [
    {
     "name": "stdout",
     "output_type": "stream",
     "text": [
      "Python Exercises\n",
      "Python Exercises\n"
     ]
    }
   ],
   "source": [
    "data = 'Python Exercises\\n'\n",
    "result = data.rstrip('\\n')\n",
    "print(result)\n",
    "print(result)"
   ]
  },
  {
   "cell_type": "code",
   "execution_count": null,
   "metadata": {},
   "outputs": [],
   "source": [
    "15. Write a Python program to check whether a string starts with specified character.\n",
    "    Data:\n",
    "        aidinasaur.com\n",
    "    Expected Output:\n",
    "        True\n",
    "        \n",
    "        \n",
    "        \n",
    "        "
   ]
  },
  {
   "cell_type": "code",
   "execution_count": 30,
   "metadata": {},
   "outputs": [
    {
     "name": "stdout",
     "output_type": "stream",
     "text": [
      "True\n"
     ]
    }
   ],
   "source": [
    "string = \"aidinasaur.com\"\n",
    "\n",
    "specified_char = \"a\"\n",
    "\n",
    "result = string.startswith(specified_char)\n",
    "\n",
    "print(result)"
   ]
  },
  {
   "cell_type": "code",
   "execution_count": null,
   "metadata": {},
   "outputs": [],
   "source": [
    "16. Write a Python program to count the number of occurrences of a substring in a string.\n",
    "    Data:\n",
    "        \"Word to publish Word docs as web pages\"\n",
    "        count = \"word\"\n",
    "    Expected Output:\n",
    "        2\n",
    "        \n",
    "        \n",
    "        \n",
    "        "
   ]
  },
  {
   "cell_type": "code",
   "execution_count": 31,
   "metadata": {},
   "outputs": [
    {
     "name": "stdout",
     "output_type": "stream",
     "text": [
      "2\n"
     ]
    }
   ],
   "source": [
    "text = \"Word to publish Word docs as web pages\"\n",
    "substring = \"word\"\n",
    "count = text.lower().count(substring.lower())\n",
    "print(count)"
   ]
  },
  {
   "cell_type": "code",
   "execution_count": null,
   "metadata": {},
   "outputs": [],
   "source": [
    "17. Write a Python program to reverse a string.\n",
    "    Data:\n",
    "        \"abcdef\"\n",
    "        \"Python Exercises.\"\n",
    "    Expected Output:\n",
    "        fedcba\n",
    "        .sesicrexE nohtyP\n",
    "        \n",
    "        \n",
    "        \n",
    "        "
   ]
  },
  {
   "cell_type": "code",
   "execution_count": 32,
   "metadata": {},
   "outputs": [
    {
     "name": "stdout",
     "output_type": "stream",
     "text": [
      "fedcba\n",
      ".sesicrexE nohtyP\n"
     ]
    }
   ],
   "source": [
    "def reverse_string(s):\n",
    "    return s[::-1]\n",
    "\n",
    "data = [\"abcdef\", \"Python Exercises.\"]\n",
    "\n",
    "for item in data:\n",
    "    print(reverse_string(item))"
   ]
  },
  {
   "cell_type": "code",
   "execution_count": null,
   "metadata": {},
   "outputs": [],
   "source": [
    "18. Write a Python program to lowercase first n characters in a string.\n",
    "    Data:\n",
    "        \"AIDINASAUR.COM\"\n",
    "    Expected Output:  \n",
    "        aidiNASAUR.COM\n",
    "        \n",
    "        \n",
    "        \n",
    "        "
   ]
  },
  {
   "cell_type": "code",
   "execution_count": 33,
   "metadata": {},
   "outputs": [
    {
     "name": "stdout",
     "output_type": "stream",
     "text": [
      "aidiNASAUR.COM\n"
     ]
    }
   ],
   "source": [
    "def lowercase_first_n(s, n):\n",
    "    return s[:n].lower() + s[n:]\n",
    "\n",
    "data = \"AIDINASAUR.COM\"\n",
    "n = 4\n",
    "result = lowercase_first_n(data, n)\n",
    "print(result)"
   ]
  },
  {
   "cell_type": "code",
   "execution_count": null,
   "metadata": {},
   "outputs": [],
   "source": [
    "19. Write a Python program to swap comma and dot in a string.\n",
    "    Data:\n",
    "        \"32.054,23\"\n",
    "    Expected Output:\n",
    "        \"32,054.23\"\n",
    "        \n",
    "        \n",
    "        \n",
    "        "
   ]
  },
  {
   "cell_type": "code",
   "execution_count": 34,
   "metadata": {},
   "outputs": [
    {
     "name": "stdout",
     "output_type": "stream",
     "text": [
      "32,054.23\n"
     ]
    }
   ],
   "source": [
    "data = \"32.054,23\"\n",
    "\n",
    "temp = data.replace('.', '#')\n",
    "\n",
    "temp = temp.replace(',', '.')\n",
    "\n",
    "result = temp.replace('#', ',')\n",
    "\n",
    "print(result)"
   ]
  },
  {
   "cell_type": "code",
   "execution_count": null,
   "metadata": {},
   "outputs": [],
   "source": [
    "20. Write a Python program to count and display the vowels of a given text.\n",
    "    Data:\n",
    "        \"AIDINASAUR.COM\"\n",
    "    Expected Output:\n",
    "        7\n",
    "        ['A', 'I', 'I', 'A', 'A', 'U', 'O']\n",
    "        \n",
    "        \n",
    "        \n",
    "        "
   ]
  },
  {
   "cell_type": "code",
   "execution_count": 35,
   "metadata": {},
   "outputs": [
    {
     "name": "stdout",
     "output_type": "stream",
     "text": [
      "7\n",
      "['A', 'I', 'I', 'A', 'A', 'U', 'O']\n"
     ]
    }
   ],
   "source": [
    "text = \"AIDINASAUR.COM\"\n",
    "vowels = \"AEIOU\"\n",
    "found_vowels = [char for char in text if char in vowels]\n",
    "\n",
    "print(len(found_vowels))\n",
    "print(found_vowels)"
   ]
  },
  {
   "cell_type": "code",
   "execution_count": null,
   "metadata": {},
   "outputs": [],
   "source": []
  }
 ],
 "metadata": {
  "kernelspec": {
   "display_name": "Python [conda env:base] *",
   "language": "python",
   "name": "conda-base-py"
  },
  "language_info": {
   "codemirror_mode": {
    "name": "ipython",
    "version": 3
   },
   "file_extension": ".py",
   "mimetype": "text/x-python",
   "name": "python",
   "nbconvert_exporter": "python",
   "pygments_lexer": "ipython3",
   "version": "3.12.7"
  }
 },
 "nbformat": 4,
 "nbformat_minor": 4
}
