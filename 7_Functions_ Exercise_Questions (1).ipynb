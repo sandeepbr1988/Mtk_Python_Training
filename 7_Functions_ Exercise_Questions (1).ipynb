{
 "cells": [
  {
   "cell_type": "code",
   "execution_count": 1,
   "metadata": {},
   "outputs": [
    {
     "name": "stdout",
     "output_type": "stream",
     "text": [
      "2 hour is equal to 120 minutes\n"
     ]
    }
   ],
   "source": [
    "# Write a function to hours to minutes , user should able to give hours as input\n",
    "\n",
    "# your Answer\n",
    "\n",
    "def hourstomin(x):\n",
    "    y=x*60\n",
    "    print(f\"{x} hour is equal to {y} minutes\")\n",
    " \n",
    "hourstomin(2)"
   ]
  },
  {
   "cell_type": "code",
   "execution_count": 3,
   "metadata": {},
   "outputs": [
    {
     "name": "stdout",
     "output_type": "stream",
     "text": [
      "10 centimeter equal to 0.1 meter\n"
     ]
    }
   ],
   "source": [
    "# Write a function to convert centimeter to meter , user shoulb be able to give centimeter as input\n",
    "# your Answer\n",
    "\n",
    "def cmtomtr(x):\n",
    "    y=x/100\n",
    "    print(f\"{x} centimeter equal to {y} meter\")\n",
    " \n",
    "cmtomtr(10)\n",
    "\n",
    "\n",
    "\n",
    "\n",
    "\n"
   ]
  },
  {
   "cell_type": "code",
   "execution_count": 5,
   "metadata": {},
   "outputs": [
    {
     "name": "stdout",
     "output_type": "stream",
     "text": [
      "2 miles equal to 3.21868 kilometer\n"
     ]
    }
   ],
   "source": [
    "# Write a function to convert miles to Kilometer , user shoulb be able to give miles as input\n",
    "\n",
    "# your Answer\n",
    "\n",
    "\n",
    "def milsestokms(x):\n",
    "    y=x*1.60934\n",
    "    print(f\"{x} miles equal to {y} kilometer\")\n",
    " \n",
    "milsestokms(2)\n",
    "\n",
    "\n",
    "\n",
    "\n"
   ]
  },
  {
   "cell_type": "code",
   "execution_count": 6,
   "metadata": {},
   "outputs": [
    {
     "name": "stdout",
     "output_type": "stream",
     "text": [
      "2 pounds equal to 0.90718474 Kilogram \n"
     ]
    }
   ],
   "source": [
    "# Write a function to convert pounds to Kilogram , user shoulb be able to give pounds as input\n",
    "# your Answer\n",
    "\n",
    "\n",
    "def poundstokgs(x):\n",
    "    y=x*0.45359237\n",
    "    print(f\"{x} pounds equal to {y} Kilogram \")\n",
    " \n",
    "poundstokgs(2)\n",
    "\n",
    "\n",
    "\n",
    "\n"
   ]
  },
  {
   "cell_type": "code",
   "execution_count": 7,
   "metadata": {},
   "outputs": [
    {
     "name": "stdout",
     "output_type": "stream",
     "text": [
      "SI is equal to 4501.35\n"
     ]
    }
   ],
   "source": [
    "# Write a function to calculate simple interest # all input shoulb be given by the user\n",
    "# your Answer\n",
    "\n",
    "\n",
    "def si(P,T,R):\n",
    "    SI=(P*T*R)/100\n",
    "    print(f\"SI is equal to {SI}\")\n",
    " \n",
    "si(10003,5,9)\n",
    "\n",
    "\n",
    "\n",
    "\n"
   ]
  },
  {
   "cell_type": "code",
   "execution_count": 11,
   "metadata": {},
   "outputs": [
    {
     "name": "stdin",
     "output_type": "stream",
     "text": [
      "enter the radius of cicrle 10\n"
     ]
    },
    {
     "name": "stdout",
     "output_type": "stream",
     "text": [
      "Area of circle is 314.2\n"
     ]
    }
   ],
   "source": [
    "# Write a function to calculate area of circle\n",
    "# your Answer\n",
    "\n",
    "def area():\n",
    "    r=float(input(\"enter the radius of cicrle\"))\n",
    "    area=(3.142)*(r**2)\n",
    "    print(f\"Area of circle is {area}\")\n",
    " \n",
    "area()\n",
    "\n",
    "\n",
    "\n",
    "\n",
    "\n"
   ]
  },
  {
   "cell_type": "code",
   "execution_count": 12,
   "metadata": {},
   "outputs": [
    {
     "name": "stdin",
     "output_type": "stream",
     "text": [
      "enter the radius of cicrle 10\n"
     ]
    },
    {
     "name": "stdout",
     "output_type": "stream",
     "text": [
      "circumference of circle is 62.839999999999996\n"
     ]
    }
   ],
   "source": [
    "# Write a function to calculate circumference of circle\n",
    "# your Answer\n",
    "\n",
    "def circumofcircle():\n",
    "    r=float(input(\"enter the radius of cicrle\"))\n",
    "    circum=2*3.142*r\n",
    "    print(f\"circumference of circle is {circum}\")\n",
    " \n",
    "circumofcircle()\n",
    "\n",
    "\n",
    "\n",
    "\n",
    "\n"
   ]
  },
  {
   "cell_type": "code",
   "execution_count": 13,
   "metadata": {},
   "outputs": [
    {
     "name": "stdin",
     "output_type": "stream",
     "text": [
      "enter the side length 25\n"
     ]
    },
    {
     "name": "stdout",
     "output_type": "stream",
     "text": [
      "The perimeter of square is 100.0\n"
     ]
    }
   ],
   "source": [
    "# Write a function to calculate perimeter of square\n",
    "# your Answer\n",
    "\n",
    "def perimeter():\n",
    "    side=float(input(\"enter the side length\"))\n",
    "    perimeter=4*side\n",
    "    print(f\"The perimeter of square is {perimeter}\")\n",
    " \n",
    "perimeter()\n",
    "\n",
    "\n",
    "\n",
    "\n",
    "\n"
   ]
  },
  {
   "cell_type": "code",
   "execution_count": 16,
   "metadata": {},
   "outputs": [
    {
     "name": "stdin",
     "output_type": "stream",
     "text": [
      "enter the side length 5\n"
     ]
    },
    {
     "name": "stdout",
     "output_type": "stream",
     "text": [
      "The area of square is 25.0\n"
     ]
    }
   ],
   "source": [
    "# Write a fucntion to calculate area of square\n",
    "# your Answer\n",
    "\n",
    "\n",
    "def areaofsquare():\n",
    "    side=float(input(\"enter the side length\"))\n",
    "    area=side*side\n",
    "    print(f\"The area of square is {area}\")\n",
    " \n",
    "areaofsquare()\n",
    "\n",
    "\n",
    "\n",
    "\n"
   ]
  },
  {
   "cell_type": "code",
   "execution_count": 17,
   "metadata": {},
   "outputs": [
    {
     "name": "stdin",
     "output_type": "stream",
     "text": [
      "enter the base length 25\n",
      "enter the height length 15\n"
     ]
    },
    {
     "name": "stdout",
     "output_type": "stream",
     "text": [
      "The area of triangle is 187.5\n"
     ]
    }
   ],
   "source": [
    "# Write a function to area of traingle\n",
    "# your Answer\n",
    "\n",
    "def areatri():\n",
    "    base=float(input(\"enter the base length\"))\n",
    "    height=float(input(\"enter the height length\"))\n",
    "    area=0.5*(base*height)\n",
    "    print(f\"The area of triangle is {area}\")\n",
    " \n",
    "areatri()\n",
    "\n",
    "\n",
    "\n",
    "\n",
    "\n"
   ]
  },
  {
   "cell_type": "code",
   "execution_count": null,
   "metadata": {},
   "outputs": [],
   "source": []
  }
 ],
 "metadata": {
  "kernelspec": {
   "display_name": "Python [conda env:base] *",
   "language": "python",
   "name": "conda-base-py"
  },
  "language_info": {
   "codemirror_mode": {
    "name": "ipython",
    "version": 3
   },
   "file_extension": ".py",
   "mimetype": "text/x-python",
   "name": "python",
   "nbconvert_exporter": "python",
   "pygments_lexer": "ipython3",
   "version": "3.12.7"
  }
 },
 "nbformat": 4,
 "nbformat_minor": 4
}
