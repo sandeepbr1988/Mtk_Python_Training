{
 "cells": [
  {
   "cell_type": "markdown",
   "metadata": {},
   "source": [
    "# While Loop Intermediate Questions"
   ]
  },
  {
   "cell_type": "code",
   "execution_count": 1,
   "metadata": {},
   "outputs": [
    {
     "name": "stdin",
     "output_type": "stream",
     "text": [
      "Please Enter any Positive Integer less than 5 :  3\n"
     ]
    },
    {
     "name": "stdout",
     "output_type": "stream",
     "text": [
      "\tMultiplication Table\n",
      "1  *  3  =  3\n",
      "2  *  3  =  6\n",
      "3  *  3  =  9\n",
      "4  *  3  =  12\n",
      "5  *  3  =  15\n",
      "6  *  3  =  18\n",
      "7  *  3  =  21\n",
      "8  *  3  =  24\n",
      "9  *  3  =  27\n",
      "10  *  3  =  30\n",
      "=============\n",
      "1  *  4  =  4\n",
      "2  *  4  =  8\n",
      "3  *  4  =  12\n",
      "4  *  4  =  16\n",
      "5  *  4  =  20\n",
      "6  *  4  =  24\n",
      "7  *  4  =  28\n",
      "8  *  4  =  32\n",
      "9  *  4  =  36\n",
      "10  *  4  =  40\n",
      "=============\n",
      "1  *  5  =  5\n",
      "2  *  5  =  10\n",
      "3  *  5  =  15\n",
      "4  *  5  =  20\n",
      "5  *  5  =  25\n",
      "6  *  5  =  30\n",
      "7  *  5  =  35\n",
      "8  *  5  =  40\n",
      "9  *  5  =  45\n",
      "10  *  5  =  50\n",
      "=============\n"
     ]
    }
   ],
   "source": [
    "'''1. Write a Python program to get an integer within 5 from the user and\n",
    "            print the multiplication tables from that entered number until 5 using while loop.\n",
    "    Data:\n",
    "        Please Enter any Positive Integer less than 5 : \n",
    "    Expected output:\n",
    "        Please Enter any Positive Integer less than 5 : 2\n",
    "            Multiplication Table \n",
    "            1  *  2  =  2\n",
    "            2  *  2  =  4\n",
    "            3  *  2  =  6\n",
    "            4  *  2  =  8\n",
    "            5  *  2  =  10\n",
    "            6  *  2  =  12\n",
    "            7  *  2  =  14\n",
    "            8  *  2  =  16\n",
    "            9  *  2  =  18\n",
    "            10  *  2  =  20\n",
    "            ==============\n",
    "            1  *  3  =  3\n",
    "            2  *  3  =  6\n",
    "            3  *  3  =  9\n",
    "            4  *  3  =  12\n",
    "            5  *  3  =  15\n",
    "            6  *  3  =  18\n",
    "            7  *  3  =  21\n",
    "            8  *  3  =  24\n",
    "            9  *  3  =  27\n",
    "            10  *  3  =  30\n",
    "            ==============\n",
    "            1  *  4  =  4\n",
    "            2  *  4  =  8\n",
    "            3  *  4  =  12\n",
    "            4  *  4  =  16\n",
    "            5  *  4  =  20\n",
    "            6  *  4  =  24\n",
    "            7  *  4  =  28\n",
    "            8  *  4  =  32\n",
    "            9  *  4  =  36\n",
    "            10  *  4  =  40\n",
    "            ==============\n",
    "            1  *  5  =  5\n",
    "            2  *  5  =  10\n",
    "            3  *  5  =  15\n",
    "            4  *  5  =  20\n",
    "            5  *  5  =  25\n",
    "            6  *  5  =  30\n",
    "            7  *  5  =  35\n",
    "            8  *  5  =  40\n",
    "            9  *  5  =  45\n",
    "            10  *  5  =  50\n",
    "            =============='''\n",
    "while True:\n",
    "    try:\n",
    "        num = int(input(\"Please Enter any Positive Integer less than 5 : \"))\n",
    "        if 0 < num < 5:\n",
    "            break\n",
    "        else:\n",
    "            print(\"Input must be a positive integer less than 5.\")\n",
    "    except ValueError:\n",
    "        print(\"Invalid input. Please enter a valid integer.\")\n",
    "\n",
    "print(\"\\tMultiplication Table\")\n",
    "current = num\n",
    "while current <= 5:\n",
    "    for i in range(1, 11):\n",
    "        print(f\"{i}  *  {current}  =  {i * current}\")\n",
    "    print(\"=\" * 13)\n",
    "    current += 1     \n",
    "        \n",
    "        \n",
    "        "
   ]
  },
  {
   "cell_type": "code",
   "execution_count": 2,
   "metadata": {},
   "outputs": [
    {
     "name": "stdout",
     "output_type": "stream",
     "text": [
      "10\n",
      "20\n",
      "30\n",
      "40\n",
      "50\n",
      "Sum=  150\n"
     ]
    }
   ],
   "source": [
    "'''2. Write a python program to display the sum of a list of numbers using while loop.\n",
    "    Data:\n",
    "        x = [10,20,30,40,50]\n",
    "    Expected output:\n",
    "        10\n",
    "        20\n",
    "        30\n",
    "        40\n",
    "        50\n",
    "        Sum=  150'''\n",
    "x = [10, 20, 30, 40, 50]\n",
    "i = 0\n",
    "total = 0\n",
    "while i < len(x):\n",
    "    print(x[i])\n",
    "    total += x[i]\n",
    "    i += 1\n",
    "print(\"Sum= \", total)\n",
    "        \n",
    "        \n",
    "        \n",
    "        "
   ]
  },
  {
   "cell_type": "code",
   "execution_count": null,
   "metadata": {},
   "outputs": [],
   "source": [
    "'''3. Write a python program to display even numbers between minimun and maximum range.\n",
    "    Data:\n",
    "        minimum and maximum range = 21,30\n",
    "    Expected output:\n",
    "        22\n",
    "        24\n",
    "        26\n",
    "        28\n",
    "        30'''\n",
    "x = [10, 20, 30, 40, 50]\n",
    "i = 0\n",
    "total = 0\n",
    "while i < len(x):\n",
    "    print(x[i])\n",
    "    total += x[i]\n",
    "    i += 1\n",
    "print(\"Sum= \", total)\n",
    "        \n",
    "        \n",
    "        "
   ]
  },
  {
   "cell_type": "code",
   "execution_count": 3,
   "metadata": {},
   "outputs": [
    {
     "name": "stdin",
     "output_type": "stream",
     "text": [
      " python\n",
      " aidinasaur\n"
     ]
    },
    {
     "ename": "KeyboardInterrupt",
     "evalue": "Interrupted by user",
     "output_type": "error",
     "traceback": [
      "\u001b[1;31m---------------------------------------------------------------------------\u001b[0m",
      "\u001b[1;31mKeyboardInterrupt\u001b[0m                         Traceback (most recent call last)",
      "Cell \u001b[1;32mIn[3], line 13\u001b[0m\n\u001b[0;32m     10\u001b[0m lines \u001b[38;5;241m=\u001b[39m []\n\u001b[0;32m     12\u001b[0m \u001b[38;5;28;01mwhile\u001b[39;00m \u001b[38;5;28;01mTrue\u001b[39;00m:\n\u001b[1;32m---> 13\u001b[0m     line \u001b[38;5;241m=\u001b[39m \u001b[38;5;28minput\u001b[39m()\n\u001b[0;32m     14\u001b[0m     \u001b[38;5;28;01mif\u001b[39;00m line \u001b[38;5;241m==\u001b[39m \u001b[38;5;124m\"\u001b[39m\u001b[38;5;124m\"\u001b[39m:\n\u001b[0;32m     15\u001b[0m         \u001b[38;5;28;01mbreak\u001b[39;00m\n",
      "File \u001b[1;32m~\\AppData\\Local\\anaconda3\\Lib\\site-packages\\ipykernel\\kernelbase.py:1262\u001b[0m, in \u001b[0;36mKernel.raw_input\u001b[1;34m(self, prompt)\u001b[0m\n\u001b[0;32m   1260\u001b[0m     msg \u001b[38;5;241m=\u001b[39m \u001b[38;5;124m\"\u001b[39m\u001b[38;5;124mraw_input was called, but this frontend does not support input requests.\u001b[39m\u001b[38;5;124m\"\u001b[39m\n\u001b[0;32m   1261\u001b[0m     \u001b[38;5;28;01mraise\u001b[39;00m StdinNotImplementedError(msg)\n\u001b[1;32m-> 1262\u001b[0m \u001b[38;5;28;01mreturn\u001b[39;00m \u001b[38;5;28mself\u001b[39m\u001b[38;5;241m.\u001b[39m_input_request(\n\u001b[0;32m   1263\u001b[0m     \u001b[38;5;28mstr\u001b[39m(prompt),\n\u001b[0;32m   1264\u001b[0m     \u001b[38;5;28mself\u001b[39m\u001b[38;5;241m.\u001b[39m_parent_ident[\u001b[38;5;124m\"\u001b[39m\u001b[38;5;124mshell\u001b[39m\u001b[38;5;124m\"\u001b[39m],\n\u001b[0;32m   1265\u001b[0m     \u001b[38;5;28mself\u001b[39m\u001b[38;5;241m.\u001b[39mget_parent(\u001b[38;5;124m\"\u001b[39m\u001b[38;5;124mshell\u001b[39m\u001b[38;5;124m\"\u001b[39m),\n\u001b[0;32m   1266\u001b[0m     password\u001b[38;5;241m=\u001b[39m\u001b[38;5;28;01mFalse\u001b[39;00m,\n\u001b[0;32m   1267\u001b[0m )\n",
      "File \u001b[1;32m~\\AppData\\Local\\anaconda3\\Lib\\site-packages\\ipykernel\\kernelbase.py:1305\u001b[0m, in \u001b[0;36mKernel._input_request\u001b[1;34m(self, prompt, ident, parent, password)\u001b[0m\n\u001b[0;32m   1302\u001b[0m \u001b[38;5;28;01mexcept\u001b[39;00m \u001b[38;5;167;01mKeyboardInterrupt\u001b[39;00m:\n\u001b[0;32m   1303\u001b[0m     \u001b[38;5;66;03m# re-raise KeyboardInterrupt, to truncate traceback\u001b[39;00m\n\u001b[0;32m   1304\u001b[0m     msg \u001b[38;5;241m=\u001b[39m \u001b[38;5;124m\"\u001b[39m\u001b[38;5;124mInterrupted by user\u001b[39m\u001b[38;5;124m\"\u001b[39m\n\u001b[1;32m-> 1305\u001b[0m     \u001b[38;5;28;01mraise\u001b[39;00m \u001b[38;5;167;01mKeyboardInterrupt\u001b[39;00m(msg) \u001b[38;5;28;01mfrom\u001b[39;00m \u001b[38;5;28;01mNone\u001b[39;00m\n\u001b[0;32m   1306\u001b[0m \u001b[38;5;28;01mexcept\u001b[39;00m \u001b[38;5;167;01mException\u001b[39;00m:\n\u001b[0;32m   1307\u001b[0m     \u001b[38;5;28mself\u001b[39m\u001b[38;5;241m.\u001b[39mlog\u001b[38;5;241m.\u001b[39mwarning(\u001b[38;5;124m\"\u001b[39m\u001b[38;5;124mInvalid Message:\u001b[39m\u001b[38;5;124m\"\u001b[39m, exc_info\u001b[38;5;241m=\u001b[39m\u001b[38;5;28;01mTrue\u001b[39;00m)\n",
      "\u001b[1;31mKeyboardInterrupt\u001b[0m: Interrupted by user"
     ]
    }
   ],
   "source": [
    "'''4. Write a Python program that accepts a sequence of lines (blank line to terminate) as input and\n",
    "            print the lines as output all characters in upper case.\n",
    "     Data:\n",
    "        aidinasaur\n",
    "        python\n",
    "    Expected output:\n",
    "        AIDINASAUR\n",
    "        PYTHON'''\n",
    "\n",
    "lines = []\n",
    "\n",
    "while True:\n",
    "    line = input()\n",
    "    if line == \"\":\n",
    "        break\n",
    "    lines.append(line)\n",
    "\n",
    "for line in lines:\n",
    "    print(line.upper())\n",
    "        \n",
    "        \n",
    "        \n",
    "        "
   ]
  },
  {
   "cell_type": "code",
   "execution_count": 1,
   "metadata": {},
   "outputs": [
    {
     "name": "stdin",
     "output_type": "stream",
     "text": [
      "Enter your guess: 4\n"
     ]
    },
    {
     "name": "stdout",
     "output_type": "stream",
     "text": [
      "You win\n"
     ]
    }
   ],
   "source": [
    "'''5. Write a program that generates a random number (0-10). Ask the user to guess it and give 3 chances.\n",
    "    Data:\n",
    "        4, 5, 6\n",
    "    Expected output:\n",
    "        Enter your guess:4\n",
    "        Enter your guess:5\n",
    "        Enter your guess:6\n",
    "        You lose'''\n",
    "\n",
    "import random\n",
    "secret_number = random.randint(0, 10)\n",
    "for attempt in range(3):\n",
    "    guess = int(input(\"Enter your guess:\"))\n",
    "    if guess == secret_number:\n",
    "        print(\"You win\")\n",
    "        break\n",
    "else:\n",
    "    print(\"You lose\")\n",
    "        \n",
    "        \n",
    "        "
   ]
  },
  {
   "cell_type": "code",
   "execution_count": 4,
   "metadata": {},
   "outputs": [
    {
     "name": "stdin",
     "output_type": "stream",
     "text": [
      "Input your password:  sandeep999\n"
     ]
    },
    {
     "name": "stdout",
     "output_type": "stream",
     "text": [
      "Not a Valid Password\n"
     ]
    }
   ],
   "source": [
    "'''6. Write a Python program to check the validity of password entered by a user.\n",
    "    Data:\n",
    "        Input your password: salem23\n",
    "    Expected output:\n",
    "        Not a Valid Password'''\n",
    "import re\n",
    "\n",
    "password = input(\"Input your password: \")\n",
    "\n",
    "if len(password) < 8:\n",
    "    print(\"Not a Valid Password\")\n",
    "elif not re.search(\"[a-z]\", password):\n",
    "    print(\"Not a Valid Password\")\n",
    "elif not re.search(\"[A-Z]\", password):\n",
    "    print(\"Not a Valid Password\")\n",
    "elif not re.search(\"[0-9]\", password):\n",
    "    print(\"Not a Valid Password\")\n",
    "elif not re.search(\"[$#@]\", password):\n",
    "    print(\"Not a Valid Password\")\n",
    "else:\n",
    "    print(\"Valid Password\")\n",
    "        \n",
    "        \n",
    "        \n",
    "        "
   ]
  },
  {
   "cell_type": "code",
   "execution_count": 6,
   "metadata": {},
   "outputs": [
    {
     "name": "stdin",
     "output_type": "stream",
     "text": [
      "Input a letter of the alphabet:  d\n"
     ]
    },
    {
     "name": "stdout",
     "output_type": "stream",
     "text": [
      "d is a consonant.\n"
     ]
    }
   ],
   "source": [
    "'''7. Write a Python program to check whether the entered alphabet is a vowel or a consonant.\n",
    "    Data:\n",
    "        Input a letter of the alphabet: a\n",
    "        Input a letter of the alphabet: G\n",
    "    Expected Output: \n",
    "        a is a vowel.\n",
    "        G is a consonant.'''\n",
    "vowels = 'aeiouAEIOU'\n",
    "letter = input(\"Input a letter of the alphabet: \")\n",
    "if len(letter) == 1 and letter.isalpha():\n",
    "    if letter in vowels:\n",
    "        print(f\"{letter} is a vowel.\")\n",
    "    else:\n",
    "        print(f\"{letter} is a consonant.\")\n",
    "else:\n",
    "    print(\"Invalid input. Please enter a single alphabet letter.\")\n",
    "        \n",
    "        \n",
    "        \n",
    "        "
   ]
  },
  {
   "cell_type": "code",
   "execution_count": 8,
   "metadata": {},
   "outputs": [
    {
     "name": "stdin",
     "output_type": "stream",
     "text": [
      "Enter an integer number (0 to finish):  12\n",
      "Enter an integer number (0 to finish):  13\n",
      "Enter an integer number (0 to finish):  15\n",
      "Enter an integer number (0 to finish):  0\n"
     ]
    },
    {
     "name": "stdout",
     "output_type": "stream",
     "text": [
      "Average and Sum of the above numbers are:  13.333333333333334 40.0\n"
     ]
    }
   ],
   "source": [
    "'''8. Write a Python program to calculate the sum and average of n integer numbers (input from the user). Input 0 to finish. \n",
    "    Data:\n",
    "        12,13,15,0\n",
    "    Expected output:\n",
    "        Average and Sum of the above numbers are:  13.333333333333334 40.0'''\n",
    "\n",
    "total_sum = 0\n",
    "count = 0\n",
    "\n",
    "while True:\n",
    "    num = int(input(\"Enter an integer number (0 to finish): \"))\n",
    "    if num == 0:\n",
    "        break\n",
    "    total_sum += num\n",
    "    count += 1\n",
    "\n",
    "if count > 0:\n",
    "    average = total_sum / count\n",
    "    print(\"Average and Sum of the above numbers are: \", average, float(total_sum))\n",
    "else:\n",
    "    print(\"No numbers were entered.\")\n",
    "            \n",
    "            \n",
    "            \n",
    "            "
   ]
  },
  {
   "cell_type": "code",
   "execution_count": 9,
   "metadata": {},
   "outputs": [
    {
     "name": "stdout",
     "output_type": "stream",
     "text": [
      "Fibonacci sequence:\n",
      "0 1 1 2 3 5 8 "
     ]
    }
   ],
   "source": [
    "'''9. Write a python program to display fibonacci series up to 10 terms.\n",
    "    Data:\n",
    "        terms = 7\n",
    "    Expected output:\n",
    "        Fibonacci sequence:\n",
    "        0 1 1 2 3 5 8 '''\n",
    "\n",
    "terms = 7\n",
    "\n",
    "print(\"Fibonacci sequence:\")\n",
    "\n",
    "n1, n2 = 0, 1\n",
    "count = 0\n",
    "\n",
    "while count < terms:\n",
    "    print(n1, end=' ')\n",
    "    nth = n1 + n2\n",
    "    n1 = n2\n",
    "    n2 = nth\n",
    "    count += 1\n",
    "        \n",
    "        \n",
    "        "
   ]
  },
  {
   "cell_type": "code",
   "execution_count": 25,
   "metadata": {},
   "outputs": [
    {
     "name": "stdout",
     "output_type": "stream",
     "text": [
      "Given Number:  987654\n",
      "Reversed Number:  456789\n"
     ]
    }
   ],
   "source": [
    "'''10. Write a python program to print the reverse of a given integer number.\n",
    "    Data:\n",
    "        x = 987654\n",
    "    Expected output:\n",
    "        Given Number:  987654\n",
    "        Reversed Number:  456789'''\n",
    "x = 987654\n",
    "reversed_str = str(x)[::-1]\n",
    "reversed_num = int(reversed_str)\n",
    "print(\"Given Number: \", x)\n",
    "print(\"Reversed Number: \", reversed_num)\n",
    "            \n",
    "            \n",
    "            \n",
    "            "
   ]
  },
  {
   "cell_type": "code",
   "execution_count": 26,
   "metadata": {},
   "outputs": [
    {
     "name": "stdout",
     "output_type": "stream",
     "text": [
      "19\n"
     ]
    }
   ],
   "source": [
    "'''11. Write a python function(digit_sum) that takes a positive integer n as input and returns the sum of all that number's digits.\n",
    "    Data:\n",
    "        Digit_sum(892)\n",
    "    Expected output:\n",
    "        19'''\n",
    "def digit_sum(n):\n",
    "    return sum(int(digit) for digit in str(n))\n",
    "result = digit_sum(892)\n",
    "print(result)\n",
    "        \n",
    "        \n",
    "        \n",
    "        "
   ]
  },
  {
   "cell_type": "code",
   "execution_count": 38,
   "metadata": {},
   "outputs": [
    {
     "name": "stdout",
     "output_type": "stream",
     "text": [
      "Out of 100 Random Numbers, 51 were even and 49 were odd\n"
     ]
    }
   ],
   "source": [
    "'''12. Write a program that generates 100 random numbers (in the range of 1-1000) and keeps a count of how many of those random \n",
    "    numbers are even and how many are odd.\n",
    "    Data:\n",
    "        1-1000\n",
    "    Expected output:\n",
    "        Out of 100 Random Numbers, 50 were even and 50 were add'''\n",
    "import random\n",
    "\n",
    "even_count = 0\n",
    "odd_count = 0\n",
    "\n",
    "for _ in range(100):\n",
    "    num = random.randint(1, 1000)\n",
    "    if num % 2 == 0:\n",
    "        even_count += 1\n",
    "    else:\n",
    "        odd_count += 1\n",
    "\n",
    "print(f\"Out of 100 Random Numbers, {even_count} were even and {odd_count} were odd\")\n",
    "        \n",
    "        \n",
    "        \n",
    "        "
   ]
  },
  {
   "cell_type": "code",
   "execution_count": 36,
   "metadata": {},
   "outputs": [
    {
     "name": "stdout",
     "output_type": "stream",
     "text": [
      "Out of 100 Random Numbers, 56 were even and 44 were Odd\n",
      "Out of 100 Random Numbers, 53 were even and 47 were Odd\n",
      "Out of 100 Random Numbers, 50 were even and 50 were Odd\n"
     ]
    }
   ],
   "source": [
    "'''13. Write a program that generates 100 random numbers (in the range of 1-1000) and \n",
    "            keeps a count of how many of those random numbers are even and how many are odd.\n",
    "    Data:\n",
    "        3 times\n",
    "    Expected output:\n",
    "        Out of 100 Random Numbers, 46 were even and 54 were Odd\n",
    "        Out of 100 Random Numbers, 46 were even and 54 were Odd\n",
    "        Out of 100 Random Numbers, 46 were even and 54 were Odd'''\n",
    "\n",
    "import random\n",
    "\n",
    "for _ in range(3):\n",
    "    even_count = 0\n",
    "    odd_count = 0\n",
    "    for _ in range(100):\n",
    "        num = random.randint(1, 1000)\n",
    "        if num % 2 == 0:\n",
    "            even_count += 1\n",
    "        else:\n",
    "            odd_count += 1\n",
    "    print(f\"Out of 100 Random Numbers, {even_count} were even and {odd_count} were Odd\")\n",
    "    \n",
    "    \n",
    "    \n",
    "    "
   ]
  },
  {
   "cell_type": "code",
   "execution_count": 24,
   "metadata": {},
   "outputs": [
    {
     "name": "stdin",
     "output_type": "stream",
     "text": [
      "Enter a number:  4\n"
     ]
    },
    {
     "name": "stdout",
     "output_type": "stream",
     "text": [
      "24\n"
     ]
    }
   ],
   "source": [
    "'''14. Write a python program to find the factorial of any number entered by the user.\n",
    "    Data:\n",
    "        3\n",
    "    Expected output:\n",
    "        6'''\n",
    "num = int(input(\"Enter a number: \"))\n",
    "factorial = 1\n",
    "for i in range(1, num + 1):\n",
    "    factorial *= i\n",
    "print(factorial)\n",
    "        \n",
    "        \n",
    "        \n",
    "        "
   ]
  },
  {
   "cell_type": "code",
   "execution_count": 18,
   "metadata": {},
   "outputs": [
    {
     "name": "stdin",
     "output_type": "stream",
     "text": [
      "Enter the first number: 15\n",
      "Enter the second number: 30\n"
     ]
    },
    {
     "name": "stdout",
     "output_type": "stream",
     "text": [
      "15\n"
     ]
    }
   ],
   "source": [
    "'''15. Write a program to find (GCD) or (HCF) of two given number.\n",
    "    Data:\n",
    "        10\n",
    "        20\n",
    "    Expected output:     \n",
    "        Enter the first number:10\n",
    "        Enter the second number:20\n",
    "        10'''\n",
    "def gcd(a, b):\n",
    "    while b != 0:\n",
    "        a, b = b, a % b\n",
    "    return a\n",
    "num1 = int(input(\"Enter the first number:\"))\n",
    "num2 = int(input(\"Enter the second number:\"))\n",
    "print(gcd(num1, num2))\n",
    "        \n",
    "        \n",
    "        \n",
    "        "
   ]
  },
  {
   "cell_type": "code",
   "execution_count": 15,
   "metadata": {},
   "outputs": [
    {
     "name": "stdin",
     "output_type": "stream",
     "text": [
      "Enter a number: 78999\n"
     ]
    },
    {
     "name": "stdout",
     "output_type": "stream",
     "text": [
      "42\n"
     ]
    }
   ],
   "source": [
    "'''16. Write a python program to calcute the sum of digits of a number given by user.\n",
    "    Data:\n",
    "        Enter a number:1234\n",
    "    Expected output:\n",
    "        10'''\n",
    "number = input(\"Enter a number:\")\n",
    "sum_of_digits = 0\n",
    "for digit in number:\n",
    "    sum_of_digits += int(digit)\n",
    "print(sum_of_digits)\n",
    "        \n",
    "        \n",
    "        \n",
    "        "
   ]
  },
  {
   "cell_type": "code",
   "execution_count": 14,
   "metadata": {},
   "outputs": [
    {
     "name": "stdin",
     "output_type": "stream",
     "text": [
      "Enter a number:  15\n"
     ]
    },
    {
     "name": "stdout",
     "output_type": "stream",
     "text": [
      "3\n",
      "5\n"
     ]
    }
   ],
   "source": [
    "'''17. Write a python program to find prime factor of a number entered by a user.\n",
    "    Data:\n",
    "        10\n",
    "    Expected output:\n",
    "        2\n",
    "        5'''\n",
    "num = int(input(\"Enter a number: \"))\n",
    "i = 2\n",
    "while num > 1:\n",
    "    if num % i == 0:\n",
    "        print(i)\n",
    "        num = num // i\n",
    "    else:\n",
    "        i += 1\n",
    "        \n",
    "        \n",
    "        \n",
    "        "
   ]
  },
  {
   "cell_type": "code",
   "execution_count": 12,
   "metadata": {},
   "outputs": [
    {
     "name": "stdin",
     "output_type": "stream",
     "text": [
      "Enter a number:  234455787654\n"
     ]
    },
    {
     "name": "stdout",
     "output_type": "stream",
     "text": [
      "Total digits are:  12\n"
     ]
    }
   ],
   "source": [
    "'''18. Write a python program to print the total number of digits present in a number entered by the user.\n",
    "    Data:\n",
    "        x = 257845\n",
    "    Expected output:\n",
    "        Total digits are:  6'''\n",
    "\n",
    "x = int(input(\"Enter a number: \"))\n",
    "total_digits = len(str(x))\n",
    "print(\"Total digits are: \", total_digits)\n",
    "            \n",
    "            \n",
    "            \n",
    "            "
   ]
  },
  {
   "cell_type": "code",
   "execution_count": 11,
   "metadata": {},
   "outputs": [
    {
     "name": "stdout",
     "output_type": "stream",
     "text": [
      "[[0, 0, 0, 0, 0, 0, 0, 0, 0, 0], [0, 0, 0, 0, 0, 0, 0, 0, 0, 0], [0, 0, 0, 0, 0, 0, 0, 0, 0, 0], [0, 0, 0, 0, 0, 0, 0, 0, 0, 0], [0, 0, 0, 0, 0, 0, 0, 0, 0, 0]]\n"
     ]
    }
   ],
   "source": [
    "''' 19. create a temporary list inside outer for/while loop which you can fill inside inner for/while loop.\n",
    "    Data:\n",
    "        count=0\n",
    "    Expected output:\n",
    "        [[0, 0, 0, 0, 0, 0, 0, 0, 0, 0], \n",
    "         [0, 0, 0, 0, 0, 0, 0, 0, 0, 0], \n",
    "         [0, 0, 0, 0, 0, 0, 0, 0, 0, 0], \n",
    "         [0, 0, 0, 0, 0, 0, 0, 0, 0, 0], \n",
    "         [0, 0, 0, 0, 0, 0, 0, 0, 0, 0]] '''\n",
    "count = 0\n",
    "result = []\n",
    "\n",
    "for i in range(5):\n",
    "    temp = []\n",
    "    for j in range(10):\n",
    "        temp.append(count)\n",
    "    result.append(temp)\n",
    "\n",
    "print(result)"
   ]
  },
  {
   "cell_type": "code",
   "execution_count": 10,
   "metadata": {},
   "outputs": [
    {
     "name": "stdout",
     "output_type": "stream",
     "text": [
      "**\n",
      "***\n",
      "************\n",
      "*****\n"
     ]
    }
   ],
   "source": [
    "'''20. Write a Python program to create a histogram from a given list of integers.\n",
    "    Data:\n",
    "        [2, 3, 12, 5]\n",
    "    Expected output:\n",
    "        **\n",
    "        ***\n",
    "        ************\n",
    "        *****'''\n",
    "        \n",
    "data = [2, 3, 12, 5]\n",
    "for num in data:\n",
    "    print('*' * num)   \n",
    "        \n",
    "        "
   ]
  }
 ],
 "metadata": {
  "kernelspec": {
   "display_name": "Python [conda env:base] *",
   "language": "python",
   "name": "conda-base-py"
  },
  "language_info": {
   "codemirror_mode": {
    "name": "ipython",
    "version": 3
   },
   "file_extension": ".py",
   "mimetype": "text/x-python",
   "name": "python",
   "nbconvert_exporter": "python",
   "pygments_lexer": "ipython3",
   "version": "3.12.7"
  }
 },
 "nbformat": 4,
 "nbformat_minor": 4
}
