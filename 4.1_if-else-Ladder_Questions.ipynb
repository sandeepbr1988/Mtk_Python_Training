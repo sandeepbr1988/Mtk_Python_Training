{
 "cells": [
  {
   "cell_type": "raw",
   "metadata": {},
   "source": [
    "Read Five marks tamil,english,maths,science and social and if all marks are greater than 35 , print pass else print fail"
   ]
  },
  {
   "cell_type": "code",
   "execution_count": 1,
   "metadata": {},
   "outputs": [
    {
     "name": "stdin",
     "output_type": "stream",
     "text": [
      "enter the marks of tamil 45\n",
      "enter the marks of english 56\n",
      "enter the marks of maths 35\n",
      "enter the marks ofscience 78\n",
      "enter the marks of social 45\n"
     ]
    },
    {
     "name": "stdout",
     "output_type": "stream",
     "text": [
      "pass\n"
     ]
    }
   ],
   "source": [
    "tamil=int(input(\"enter the marks of tamil\"))\n",
    "english=int(input(\"enter the marks of english\"))\n",
    "maths=int(input(\"enter the marks of maths\"))\n",
    "science=int(input(\"enter the marks ofscience\"))\n",
    "social=int(input(\"enter the marks of social\"))\n",
    "if tamil >= 35 and english >= 35 and maths >=35 and science >=35 and social >=35:\n",
    "    print(\"pass\")\n",
    "else:\n",
    "    print(\"fail\")"
   ]
  },
  {
   "cell_type": "code",
   "execution_count": null,
   "metadata": {},
   "outputs": [],
   "source": []
  }
 ],
 "metadata": {
  "kernelspec": {
   "display_name": "Python [conda env:base] *",
   "language": "python",
   "name": "conda-base-py"
  },
  "language_info": {
   "codemirror_mode": {
    "name": "ipython",
    "version": 3
   },
   "file_extension": ".py",
   "mimetype": "text/x-python",
   "name": "python",
   "nbconvert_exporter": "python",
   "pygments_lexer": "ipython3",
   "version": "3.12.7"
  }
 },
 "nbformat": 4,
 "nbformat_minor": 4
}
