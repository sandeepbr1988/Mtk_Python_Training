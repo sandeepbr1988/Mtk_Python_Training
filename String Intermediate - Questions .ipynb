{
 "cells": [
  {
   "cell_type": "markdown",
   "metadata": {},
   "source": [
    "# String Intermediate Questions "
   ]
  },
  {
   "cell_type": "raw",
   "metadata": {},
   "source": [
    "1. Write a Python program to count the number of each character in a string.\n",
    "    Data:\n",
    "        \"aidinasaur.com\"\n",
    "    Expected Output:\n",
    "        {'a': 3, 'i': 2, 'd': 1, 'n': 1, 's': 1, 'u': 1, 'r': 1, '.': 1, 'c': 1, 'o': 1, 'm': 1}\n",
    "        \n",
    "        \n",
    "        \n",
    "        "
   ]
  },
  {
   "cell_type": "code",
   "execution_count": 5,
   "metadata": {},
   "outputs": [
    {
     "name": "stdout",
     "output_type": "stream",
     "text": [
      "{'a': 3, 'i': 2, 'd': 1, 'n': 1, 's': 1, 'u': 1, 'r': 1, '.': 1, 'c': 1, 'o': 1, 'm': 1}\n"
     ]
    }
   ],
   "source": [
    "data = \"aidinasaur.com\"\n",
    "char_count = {}\n",
    "for char in data:\n",
    "    if char in char_count:\n",
    "        char_count[char] += 1\n",
    "    else:\n",
    "        char_count[char] = 1\n",
    "print(char_count)"
   ]
  },
  {
   "cell_type": "code",
   "execution_count": null,
   "metadata": {},
   "outputs": [],
   "source": [
    "2. Write a Python program to get a string made of the first 2 and the last 2 chars from a given a string. \n",
    "   If the string length is less than 2, return instead of the empty string.\n",
    "    Data:\n",
    "        'aidinasaur'\n",
    "        'ai'\n",
    "        'a'\n",
    "    Expected Output:\n",
    "        aiur\n",
    "        aiai\n",
    "        \n",
    "        \n",
    "        \n",
    "        "
   ]
  },
  {
   "cell_type": "code",
   "execution_count": 3,
   "metadata": {},
   "outputs": [
    {
     "name": "stdout",
     "output_type": "stream",
     "text": [
      "aiur\n",
      "aiai\n",
      "\n"
     ]
    }
   ],
   "source": [
    "def string_both_ends(s):\n",
    "    if len(s) < 2:\n",
    "        return ''\n",
    "    return s[:2] + s[-2:]\n",
    "data = ['aidinasaur', 'ai', 'a']\n",
    "for item in data:\n",
    "    print(string_both_ends(item))"
   ]
  },
  {
   "cell_type": "code",
   "execution_count": null,
   "metadata": {},
   "outputs": [],
   "source": [
    "3. Write a Python program to get a string from a given string where all occurrences of its first char have been changed to '$',\n",
    "   except the first char itself. \n",
    "    Data:\n",
    "        'restart'\n",
    "    Expected Output:\n",
    "        resta$t\n",
    "        \n",
    "        \n",
    "        \n"
   ]
  },
  {
   "cell_type": "code",
   "execution_count": 6,
   "metadata": {},
   "outputs": [
    {
     "name": "stdout",
     "output_type": "stream",
     "text": [
      "resta$t\n"
     ]
    }
   ],
   "source": [
    "def change_char(s):\n",
    "    first_char = s[0]\n",
    "    modified = s[1:].replace(first_char, '$')\n",
    "    return first_char + modified\n",
    "input_str = 'restart'\n",
    "output = change_char(input_str)\n",
    "print(output)"
   ]
  },
  {
   "cell_type": "code",
   "execution_count": null,
   "metadata": {},
   "outputs": [],
   "source": [
    "4. Write a Python program to get a single string from two given strings, separated by a space and swap \n",
    "   the first two characters of each string. \n",
    "    Data:\n",
    "        'abc', 'xyz'\n",
    "    Expected Output:\n",
    "        xyc abz\n",
    "        \n",
    "        \n",
    "        \n"
   ]
  },
  {
   "cell_type": "code",
   "execution_count": 7,
   "metadata": {},
   "outputs": [
    {
     "name": "stdout",
     "output_type": "stream",
     "text": [
      "xyc abz\n"
     ]
    }
   ],
   "source": [
    "def swap_first_two_chars(str1, str2):\n",
    "    new_str1 = str2[:2] + str1[2:]\n",
    "    new_str2 = str1[:2] + str2[2:]\n",
    "    return f\"{new_str1} {new_str2}\"\n",
    "output = swap_first_two_chars('abc', 'xyz')\n",
    "print(output)"
   ]
  },
  {
   "cell_type": "code",
   "execution_count": null,
   "metadata": {},
   "outputs": [],
   "source": [
    "5. Write a Python program to add 'ing' at the end of a given string (length should be at least 3).If the given string already \n",
    "   ends with 'ing' then add 'ly' instead.If the string length of the given string is less than 3, leave it unchanged.\n",
    "    Data:\n",
    "        'abc'\n",
    "        'string'\n",
    "    Expected Output:\n",
    "        abcing\n",
    "        stringly\n",
    "        \n",
    "        \n",
    "        \n",
    "        "
   ]
  },
  {
   "cell_type": "code",
   "execution_count": 9,
   "metadata": {},
   "outputs": [
    {
     "name": "stdout",
     "output_type": "stream",
     "text": [
      "abcing\n",
      "stringly\n",
      "in\n"
     ]
    }
   ],
   "source": [
    "def add_ing_or_ly(s):\n",
    "    if len(s) < 3:\n",
    "        return s\n",
    "    if s.endswith('ing'):\n",
    "        return s + 'ly'\n",
    "    else:\n",
    "        return s + 'ing'\n",
    "data = ['abc', 'string', 'in']\n",
    "for item in data:\n",
    "    print(add_ing_or_ly(item))"
   ]
  },
  {
   "cell_type": "code",
   "execution_count": null,
   "metadata": {},
   "outputs": [],
   "source": [
    "6. Write a Python program to find the first appearance of the substring 'not' and 'poor' from a given string, if 'not' \n",
    "   follows the 'poor', replace the whole 'not'...'poor' substring with 'good'. Return the resulting string.\n",
    "    Data:\n",
    "        'The lyrics is not that poor!\n",
    "        'The lyrics is good!'\n",
    "    Expected Output:\n",
    "        The lyrics is poor!\n",
    "        The lyrics is poor!\n",
    "        \n",
    "        \n",
    "        \n",
    "        "
   ]
  },
  {
   "cell_type": "code",
   "execution_count": 10,
   "metadata": {},
   "outputs": [
    {
     "name": "stdout",
     "output_type": "stream",
     "text": [
      "The lyrics is good!\n",
      "The lyrics is good!\n"
     ]
    }
   ],
   "source": [
    "def not_poor_replace(s):\n",
    "    not_index = s.find('not')\n",
    "    poor_index = s.find('poor')\n",
    "    if not_index != -1 and poor_index != -1 and not_index < poor_index:\n",
    "        return s[:not_index] + 'good' + s[poor_index+4:]\n",
    "    else:\n",
    "        return s\n",
    "data = [\n",
    "    'The lyrics is not that poor!',\n",
    "    'The lyrics is good!'\n",
    "]\n",
    "for line in data:\n",
    "    print(not_poor_replace(line))"
   ]
  },
  {
   "cell_type": "code",
   "execution_count": null,
   "metadata": {},
   "outputs": [],
   "source": [
    "7. Write a Python function that takes a list of words and returns the longest word and the length of the longest one.\n",
    "    Data:\n",
    "        Longest word: Exercises\n",
    "    Expected Output:\n",
    "        Length of the longest word: 9\n",
    "            \n",
    "            \n",
    "            \n",
    "            "
   ]
  },
  {
   "cell_type": "code",
   "execution_count": 11,
   "metadata": {},
   "outputs": [
    {
     "name": "stdout",
     "output_type": "stream",
     "text": [
      "Longest word: Exercises\n",
      "Length of the longest word: 9\n"
     ]
    }
   ],
   "source": [
    "def longest_word(words):\n",
    "    if not words:\n",
    "        return None, 0\n",
    "    longest = words[0]\n",
    "    max_length = len(longest)\n",
    "    for word in words:\n",
    "        if len(word) > max_length:\n",
    "            longest = word\n",
    "            max_length = len(word)\n",
    "    return longest, max_length\n",
    "words_list = [\"Python\", \"Exercises\", \"Practice\"]\n",
    "longest, length = longest_word(words_list)\n",
    "print(\"Longest word:\", longest)\n",
    "print(\"Length of the longest word:\", length)"
   ]
  },
  {
   "cell_type": "code",
   "execution_count": null,
   "metadata": {},
   "outputs": [],
   "source": [
    "8. Write a Python program to count the occurrences of each word in a given sentence.\n",
    "    Data:\n",
    "        'Read and edit documents attached to emails'\n",
    "    Expected Output:\n",
    "        {'Read': 1, 'and': 1, 'edit': 1, 'documents': 1, 'attached': 1, 'to': 1, 'emails': 1}\n",
    "\n",
    "\n",
    "        \n",
    "        \n",
    "        \n",
    "        "
   ]
  },
  {
   "cell_type": "code",
   "execution_count": 12,
   "metadata": {},
   "outputs": [
    {
     "name": "stdout",
     "output_type": "stream",
     "text": [
      "{'Read': 1, 'and': 1, 'edit': 1, 'documents': 1, 'attached': 1, 'to': 1, 'emails': 1}\n"
     ]
    }
   ],
   "source": [
    "sentence = 'Read and edit documents attached to emails'\n",
    "words = sentence.split()\n",
    "word_count = {}\n",
    "for word in words:\n",
    "    if word in word_count:\n",
    "        word_count[word] += 1\n",
    "    else:\n",
    "        word_count[word] = 1\n",
    "print(word_count)"
   ]
  },
  {
   "cell_type": "code",
   "execution_count": null,
   "metadata": {},
   "outputs": [],
   "source": [
    "9. Write a Python function to convert a given string to all uppercase if it contains at least 2 uppercase \n",
    "   characters in the first 4 characters.\n",
    "    Data:\n",
    "        'Python'\n",
    "        'PyThon'\n",
    "    Expected Output:\n",
    "        Python\n",
    "        PYTHON\n",
    "        \n",
    "        \n",
    "        \n",
    "        "
   ]
  },
  {
   "cell_type": "code",
   "execution_count": 11,
   "metadata": {},
   "outputs": [
    {
     "name": "stdout",
     "output_type": "stream",
     "text": [
      "Python\n",
      "PYTHON\n"
     ]
    }
   ],
   "source": [
    "def convert_string(s):\n",
    "    upper_count = sum(1 for c in s[:4] if c.isupper())\n",
    "    if upper_count >= 2:\n",
    "        return s.upper()\n",
    "    else:\n",
    "        return s\n",
    "print(convert_string('Python'))\n",
    "print(convert_string('PyThon'))"
   ]
  },
  {
   "cell_type": "code",
   "execution_count": null,
   "metadata": {},
   "outputs": [],
   "source": [
    "10. Write a Python program to print the following floating numbers upto 2 decimal places.\n",
    "    Data:\n",
    "        x = 3.1415926\n",
    "        y = 12.9999\n",
    "    Expected Output:\n",
    "        Formatted Number: 3.14\n",
    "        Formatted Number: 13.00\n",
    "\n",
    "            \n",
    "            \n",
    "            \n",
    "            "
   ]
  },
  {
   "cell_type": "code",
   "execution_count": 16,
   "metadata": {},
   "outputs": [
    {
     "name": "stdout",
     "output_type": "stream",
     "text": [
      "Formatted Number: 3.14\n",
      "Formatted Number: 13.00\n"
     ]
    }
   ],
   "source": [
    "x = 3.1415926\n",
    "y = 12.9999\n",
    "\n",
    "print(f\"Formatted Number: {x:.2f}\")\n",
    "print(f\"Formatted Number: {y:.2f}\")"
   ]
  },
  {
   "cell_type": "code",
   "execution_count": null,
   "metadata": {},
   "outputs": [],
   "source": [
    "11. Write a Python program to print the following floating numbers upto 2 decimal places with a sign.\n",
    "    Data:\n",
    "        x = 3.1415926 \n",
    "        y = -12.9999\n",
    "    Expected Output:\n",
    "        Formatted Number with sign: +3.14\n",
    "        Formatted Number with sign: -13.00\n",
    "            \n",
    "            \n",
    "            \n",
    "            "
   ]
  },
  {
   "cell_type": "code",
   "execution_count": 17,
   "metadata": {},
   "outputs": [
    {
     "name": "stdout",
     "output_type": "stream",
     "text": [
      "Formatted Number with sign: +3.14\n",
      "Formatted Number with sign: -13.00\n"
     ]
    }
   ],
   "source": [
    "x = 3.1415926\n",
    "y = -12.9999\n",
    "\n",
    "print(f\"Formatted Number with sign: {x:+.2f}\")\n",
    "print(f\"Formatted Number with sign: {y:+.2f}\")"
   ]
  },
  {
   "cell_type": "code",
   "execution_count": null,
   "metadata": {},
   "outputs": [],
   "source": [
    "12. Write a Python program to print the following floating numbers with no decimal places.\n",
    "    Data:\n",
    "        x = 3.1415926\n",
    "        y = -12.9999\n",
    "    Expected Output:\n",
    "        Formatted Number with no decimal places: 3\n",
    "        Formatted Number with no decimal places: -13\n",
    "            \n",
    "            \n",
    "            \n",
    "            "
   ]
  },
  {
   "cell_type": "code",
   "execution_count": 18,
   "metadata": {},
   "outputs": [
    {
     "name": "stdout",
     "output_type": "stream",
     "text": [
      "Formatted Number with no decimal places: 3\n",
      "Formatted Number with no decimal places: -13\n"
     ]
    }
   ],
   "source": [
    "x = 3.1415926\n",
    "y = -12.9999\n",
    "\n",
    "print(\"Formatted Number with no decimal places: {}\".format(round(x)))\n",
    "print(\"Formatted Number with no decimal places: {}\".format(round(y)))"
   ]
  },
  {
   "cell_type": "code",
   "execution_count": null,
   "metadata": {},
   "outputs": [],
   "source": [
    "13. Write a Python program to print the following integers with zeros on the left of specified width.\n",
    "    Data:\n",
    "        x = 3\n",
    "        y = 123\n",
    "    Expected Output:\n",
    "        Formatted Number(left padding, width 2): 03\n",
    "        Formatted Number(left padding, width 6): 000123\n",
    "            \n",
    "            \n",
    "            \n",
    "            "
   ]
  },
  {
   "cell_type": "code",
   "execution_count": 19,
   "metadata": {},
   "outputs": [
    {
     "name": "stdout",
     "output_type": "stream",
     "text": [
      "Formatted Number(left padding, width 2): 03\n",
      "Formatted Number(left padding, width 6): 000123\n"
     ]
    }
   ],
   "source": [
    "x = 3\n",
    "y = 123\n",
    "\n",
    "# Print x with width 2, padded with zeros\n",
    "print(f\"Formatted Number(left padding, width 2): {x:02d}\")\n",
    "\n",
    "# Print y with width 6, padded with zeros\n",
    "print(f\"Formatted Number(left padding, width 6): {y:06d}\")"
   ]
  },
  {
   "cell_type": "code",
   "execution_count": null,
   "metadata": {},
   "outputs": [],
   "source": [
    "14. Write a Python program to print the following integers with '*' on the right of specified width.\n",
    "    Data:\n",
    "        x = 3\n",
    "        y = 123\n",
    "    Expected Output:\n",
    "        Formatted Number(right padding, width 2):  3*\n",
    "        Formatted Number(right padding, width 6):  123***\n",
    "            \n",
    "            \n",
    "            \n",
    "            "
   ]
  },
  {
   "cell_type": "code",
   "execution_count": 20,
   "metadata": {},
   "outputs": [
    {
     "name": "stdout",
     "output_type": "stream",
     "text": [
      "Formatted Number(right padding, width 2):  3*\n",
      "Formatted Number(right padding, width 6):  123***\n"
     ]
    }
   ],
   "source": [
    "x = 3\n",
    "y = 123\n",
    "formatted_x = str(x).ljust(2, '*')\n",
    "print(f\"Formatted Number(right padding, width 2):  {formatted_x}\")\n",
    "formatted_y = str(y).ljust(6, '*')\n",
    "print(f\"Formatted Number(right padding, width 6):  {formatted_y}\")"
   ]
  },
  {
   "cell_type": "code",
   "execution_count": null,
   "metadata": {},
   "outputs": [],
   "source": [
    "15. Write a Python program to display a number with a comma separator.\n",
    "    Data:\n",
    "        x = 3000000\n",
    "        y = 30000000\n",
    "    Expected Output:\n",
    "        Formatted Number with comma separator: 3,000,000\n",
    "        Formatted Number with comma separator: 30,000,000\n",
    "            \n",
    "            \n",
    "            \n",
    "            "
   ]
  },
  {
   "cell_type": "code",
   "execution_count": 21,
   "metadata": {},
   "outputs": [
    {
     "name": "stdout",
     "output_type": "stream",
     "text": [
      "Formatted Number with comma separator: 3,000,000\n",
      "Formatted Number with comma separator: 30,000,000\n"
     ]
    }
   ],
   "source": [
    "x = 3000000\n",
    "y = 30000000\n",
    "print(\"Formatted Number with comma separator: {:,}\".format(x))\n",
    "print(\"Formatted Number with comma separator: {:,}\".format(y))"
   ]
  },
  {
   "cell_type": "code",
   "execution_count": null,
   "metadata": {},
   "outputs": [],
   "source": [
    "16. Write a Python program to format a number with a percentage.\n",
    "    Data:\n",
    "        x = 0.25\n",
    "        y = -0.25\n",
    "    Expected Output:\n",
    "        Formatted Number with percentage: 25.00%\n",
    "        Formatted Number with percentage: -25.00%\n",
    "            \n",
    "            \n",
    "            \n",
    "            "
   ]
  },
  {
   "cell_type": "code",
   "execution_count": 22,
   "metadata": {},
   "outputs": [
    {
     "name": "stdout",
     "output_type": "stream",
     "text": [
      "Formatted Number with percentage: 25.00%\n",
      "Formatted Number with percentage: -25.00%\n"
     ]
    }
   ],
   "source": [
    "x = 0.25\n",
    "y = -0.25\n",
    "print(\"Formatted Number with percentage: {:.2%}\".format(x))\n",
    "print(\"Formatted Number with percentage: {:.2%}\".format(y))"
   ]
  },
  {
   "cell_type": "code",
   "execution_count": null,
   "metadata": {},
   "outputs": [],
   "source": [
    "17. Write a Python program to reverse words in a string.\n",
    "    Data:\n",
    "        \"Read and edit documents attached to emails.\"\n",
    "        \"Python Exercises.\"\n",
    "    Expected Output:\n",
    "        emails. to attached documents edit and Read\n",
    "        Exercises. Python\n",
    "        \n",
    "        \n",
    "        \n",
    "        "
   ]
  },
  {
   "cell_type": "code",
   "execution_count": 7,
   "metadata": {},
   "outputs": [
    {
     "name": "stdout",
     "output_type": "stream",
     "text": [
      "emails. to attached documents edit and Read\n",
      "Exercises. Python\n"
     ]
    }
   ],
   "source": [
    "def reverse_words(sentence):\n",
    "    words = sentence.split()\n",
    "    reversed_words = words[::-1]\n",
    "    return ' '.join(reversed_words)\n",
    "data = [\n",
    "    \"Read and edit documents attached to emails.\",\n",
    "    \"Python Exercises.\"\n",
    "]\n",
    "for line in data:\n",
    "    print(reverse_words(line))"
   ]
  },
  {
   "cell_type": "code",
   "execution_count": null,
   "metadata": {},
   "outputs": [],
   "source": [
    "18. Write a Python program to strip vowels from a given string.\n",
    "    Data:\n",
    "        Original String:\n",
    "        \"Read and edit documents attached to emails.\"\n",
    "    Expected Output:\n",
    "        After stripping a,e,i,o,u\n",
    "        Rd nd dt dcmnts ttchd t mls.\n",
    "        \n",
    "        \n",
    "        \n",
    "        "
   ]
  },
  {
   "cell_type": "code",
   "execution_count": 6,
   "metadata": {},
   "outputs": [
    {
     "name": "stdout",
     "output_type": "stream",
     "text": [
      "After stripping a,e,i,o,u\n",
      "Rd nd dt dcmnts ttchd t mls.\n"
     ]
    }
   ],
   "source": [
    "original_string = \"Read and edit documents attached to emails.\"\n",
    "vowels = set('aeiouAEIOU')\n",
    "stripped_string = ''.join([char for char in original_string if char not in vowels])\n",
    "print(\"After stripping a,e,i,o,u\")\n",
    "print(stripped_string)"
   ]
  },
  {
   "cell_type": "code",
   "execution_count": null,
   "metadata": {},
   "outputs": [],
   "source": [
    "19. Write a Python program to count repeated characters in a string.\n",
    "    Data:\n",
    "        string: 'thequickbrownfoxjumpsoverthelazydog'\n",
    "    Expected Output:\n",
    "        o 4\n",
    "        e 3\n",
    "        t 2\n",
    "        h 2\n",
    "        u 2\n",
    "        r 2\n",
    "        \n",
    "        \n",
    "        \n",
    "        "
   ]
  },
  {
   "cell_type": "code",
   "execution_count": 5,
   "metadata": {},
   "outputs": [
    {
     "name": "stdout",
     "output_type": "stream",
     "text": [
      "o 4\n",
      "e 3\n",
      "t 2\n",
      "h 2\n",
      "u 2\n",
      "r 2\n"
     ]
    }
   ],
   "source": [
    "string = 'thequickbrownfoxjumpsoverthelazydog'\n",
    "char_count = {}\n",
    "for char in string:\n",
    "    char_count[char] = char_count.get(char, 0) + 1\n",
    "repeated_chars = {char: count for char, count in char_count.items() if count > 1}\n",
    "sorted_chars = sorted(\n",
    "    repeated_chars.items(),\n",
    "    key=lambda item: (-item[1], string.index(item[0]))\n",
    ")\n",
    "for char, count in sorted_chars:\n",
    "    print(f\"{char} {count}\")"
   ]
  },
  {
   "cell_type": "code",
   "execution_count": null,
   "metadata": {},
   "outputs": [],
   "source": [
    "20. Write a Python program to print the square and cube symbol in the area of a rectangle and volume of a cylinder.\n",
    "    Data:\n",
    "        area = 1256.66\n",
    "        volume = 1254.725\n",
    "    Expected Output:\n",
    "        The area of the rectangle is 1256.66cm2\n",
    "        The volume of the cylinder is 1254.725cm3\n",
    "        \n",
    "        \n",
    "        \n",
    "        "
   ]
  },
  {
   "cell_type": "code",
   "execution_count": 4,
   "metadata": {},
   "outputs": [
    {
     "name": "stdout",
     "output_type": "stream",
     "text": [
      "The area of the rectangle is 1256.66cm²\n",
      "The volume of the cylinder is 1254.725cm³\n"
     ]
    }
   ],
   "source": [
    "area = 1256.66\n",
    "volume = 1254.725\n",
    "print(f\"The area of the rectangle is {area}cm\\u00B2\")\n",
    "print(f\"The volume of the cylinder is {volume}cm\\u00B3\")"
   ]
  },
  {
   "cell_type": "code",
   "execution_count": null,
   "metadata": {},
   "outputs": [],
   "source": []
  }
 ],
 "metadata": {
  "kernelspec": {
   "display_name": "Python [conda env:base] *",
   "language": "python",
   "name": "conda-base-py"
  },
  "language_info": {
   "codemirror_mode": {
    "name": "ipython",
    "version": 3
   },
   "file_extension": ".py",
   "mimetype": "text/x-python",
   "name": "python",
   "nbconvert_exporter": "python",
   "pygments_lexer": "ipython3",
   "version": "3.12.7"
  }
 },
 "nbformat": 4,
 "nbformat_minor": 4
}
